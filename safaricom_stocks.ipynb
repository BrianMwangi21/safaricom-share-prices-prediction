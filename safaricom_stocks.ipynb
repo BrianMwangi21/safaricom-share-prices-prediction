{
  "nbformat": 4,
  "nbformat_minor": 0,
  "metadata": {
    "colab": {
      "name": "safaricom-stocks.ipynb",
      "provenance": []
    },
    "kernelspec": {
      "name": "python3",
      "display_name": "Python 3"
    }
  },
  "cells": [
    {
      "cell_type": "code",
      "metadata": {
        "id": "x8_-BN0KJPO_",
        "colab_type": "code",
        "colab": {}
      },
      "source": [
        "# Time Series Analysis of SAFARICOM Shares Prices with LSTM using Python's Keras Library\n",
        "# The dataset used xontains Safaricom share prices from 2012 - June 2019"
      ],
      "execution_count": 0,
      "outputs": []
    },
    {
      "cell_type": "code",
      "metadata": {
        "id": "lRpBRXmdJajq",
        "colab_type": "code",
        "colab": {
          "base_uri": "https://localhost:8080/",
          "height": 34
        },
        "outputId": "d1f96ac2-a173-42e6-e717-d8bb80cd86a3"
      },
      "source": [
        "# Import the necessary libraries\n",
        "import numpy as np # linear algebra\n",
        "import pandas as pd\n",
        "import matplotlib.pyplot as plt\n",
        "%matplotlib inline\n",
        "\n",
        "#setting figure size\n",
        "from matplotlib.pylab import rcParams\n",
        "rcParams['figure.figsize'] = 16,5\n",
        "\n",
        "from matplotlib.lines import Line2D\n",
        "\n",
        "#for normalizing data\n",
        "from sklearn.preprocessing import MinMaxScaler\n",
        "from sklearn.model_selection import train_test_split\n",
        "scaler = MinMaxScaler(feature_range=(0, 1))\n",
        "\n",
        "from keras.models import Sequential\n",
        "from keras.layers import Dense, Dropout, LSTM\n",
        "\n",
        "from datetime import datetime"
      ],
      "execution_count": 2,
      "outputs": [
        {
          "output_type": "stream",
          "text": [
            "Using TensorFlow backend.\n"
          ],
          "name": "stderr"
        }
      ]
    },
    {
      "cell_type": "code",
      "metadata": {
        "id": "1o_OU-eSJsW8",
        "colab_type": "code",
        "colab": {
          "base_uri": "https://localhost:8080/",
          "height": 204
        },
        "outputId": "40649ade-6bd1-46fb-b0be-5b95f2c3e311"
      },
      "source": [
        "vTicker = 'NSE_SCOM_Safaricom'\n",
        "\n",
        "# Load data into dataframe\n",
        "data = pd.read_csv('NSE_SCOM_Safaricom.csv')\n",
        "\n",
        "#print the head\n",
        "data.sample(5)"
      ],
      "execution_count": 3,
      "outputs": [
        {
          "output_type": "execute_result",
          "data": {
            "text/html": [
              "<div>\n",
              "<style scoped>\n",
              "    .dataframe tbody tr th:only-of-type {\n",
              "        vertical-align: middle;\n",
              "    }\n",
              "\n",
              "    .dataframe tbody tr th {\n",
              "        vertical-align: top;\n",
              "    }\n",
              "\n",
              "    .dataframe thead th {\n",
              "        text-align: right;\n",
              "    }\n",
              "</style>\n",
              "<table border=\"1\" class=\"dataframe\">\n",
              "  <thead>\n",
              "    <tr style=\"text-align: right;\">\n",
              "      <th></th>\n",
              "      <th>Date</th>\n",
              "      <th>Open</th>\n",
              "      <th>High</th>\n",
              "      <th>Low</th>\n",
              "      <th>Close</th>\n",
              "      <th>Vol.</th>\n",
              "      <th>Change %</th>\n",
              "    </tr>\n",
              "  </thead>\n",
              "  <tbody>\n",
              "    <tr>\n",
              "      <th>1393</th>\n",
              "      <td>08-01-2018</td>\n",
              "      <td>27.5</td>\n",
              "      <td>28.25</td>\n",
              "      <td>27.50</td>\n",
              "      <td>28.00</td>\n",
              "      <td>6.87M</td>\n",
              "      <td>0.00%</td>\n",
              "    </tr>\n",
              "    <tr>\n",
              "      <th>590</th>\n",
              "      <td>17-10-2014</td>\n",
              "      <td>12.5</td>\n",
              "      <td>12.50</td>\n",
              "      <td>12.00</td>\n",
              "      <td>12.15</td>\n",
              "      <td>3.33M</td>\n",
              "      <td>-2.80%</td>\n",
              "    </tr>\n",
              "    <tr>\n",
              "      <th>1650</th>\n",
              "      <td>17-01-2019</td>\n",
              "      <td>23.9</td>\n",
              "      <td>24.00</td>\n",
              "      <td>23.55</td>\n",
              "      <td>23.75</td>\n",
              "      <td>5.58M</td>\n",
              "      <td>-0.21%</td>\n",
              "    </tr>\n",
              "    <tr>\n",
              "      <th>569</th>\n",
              "      <td>18-09-2014</td>\n",
              "      <td>12.5</td>\n",
              "      <td>12.70</td>\n",
              "      <td>12.50</td>\n",
              "      <td>12.60</td>\n",
              "      <td>6.21M</td>\n",
              "      <td>0.80%</td>\n",
              "    </tr>\n",
              "    <tr>\n",
              "      <th>60</th>\n",
              "      <td>04-09-2012</td>\n",
              "      <td>3.9</td>\n",
              "      <td>4.00</td>\n",
              "      <td>3.85</td>\n",
              "      <td>3.95</td>\n",
              "      <td>12.05M</td>\n",
              "      <td>1.28%</td>\n",
              "    </tr>\n",
              "  </tbody>\n",
              "</table>\n",
              "</div>"
            ],
            "text/plain": [
              "            Date  Open   High    Low  Close    Vol. Change %\n",
              "1393  08-01-2018  27.5  28.25  27.50  28.00   6.87M    0.00%\n",
              "590   17-10-2014  12.5  12.50  12.00  12.15   3.33M   -2.80%\n",
              "1650  17-01-2019  23.9  24.00  23.55  23.75   5.58M   -0.21%\n",
              "569   18-09-2014  12.5  12.70  12.50  12.60   6.21M    0.80%\n",
              "60    04-09-2012   3.9   4.00   3.85   3.95  12.05M    1.28%"
            ]
          },
          "metadata": {
            "tags": []
          },
          "execution_count": 3
        }
      ]
    },
    {
      "cell_type": "code",
      "metadata": {
        "id": "HPUJT2E8KmlK",
        "colab_type": "code",
        "colab": {
          "base_uri": "https://localhost:8080/",
          "height": 328
        },
        "outputId": "75a74a10-0768-4814-d6e9-25fa2a313f52"
      },
      "source": [
        "# Format date and make it the index\n",
        "data['Date'] = pd.to_datetime(data.Date,format='%d-%m-%Y')\n",
        "data.index = data['Date']\n",
        "\n",
        "# Plot the Close Price Trend\n",
        "plt.plot(data['Close'])\n",
        "plt.title('[ ' + vTicker + ' ] - CLOSING PRICE TREND')\n",
        "plt.show()"
      ],
      "execution_count": 4,
      "outputs": [
        {
          "output_type": "display_data",
          "data": {
            "image/png": "[encoded data removed]",
            "text/plain": [
              "<Figure size 1152x360 with 1 Axes>"
            ]
          },
          "metadata": {
            "tags": [],
            "needs_background": "light"
          }
        }
      ]
    },
    {
      "cell_type": "code",
      "metadata": {
        "id": "qO4FBxQELIjV",
        "colab_type": "code",
        "colab": {
          "base_uri": "https://localhost:8080/",
          "height": 235
        },
        "outputId": "44422452-2390-41e4-f75b-8ff511aa497a"
      },
      "source": [
        "# Create new dataframe with just Date & Close price\n",
        "close_data = data.copy()\n",
        "close_data = close_data.drop(['Open', 'High', 'Low', 'Vol.', 'Change %', 'Date'], axis=1)\n",
        "close_data.sample(5)"
      ],
      "execution_count": 5,
      "outputs": [
        {
          "output_type": "execute_result",
          "data": {
            "text/html": [
              "<div>\n",
              "<style scoped>\n",
              "    .dataframe tbody tr th:only-of-type {\n",
              "        vertical-align: middle;\n",
              "    }\n",
              "\n",
              "    .dataframe tbody tr th {\n",
              "        vertical-align: top;\n",
              "    }\n",
              "\n",
              "    .dataframe thead th {\n",
              "        text-align: right;\n",
              "    }\n",
              "</style>\n",
              "<table border=\"1\" class=\"dataframe\">\n",
              "  <thead>\n",
              "    <tr style=\"text-align: right;\">\n",
              "      <th></th>\n",
              "      <th>Close</th>\n",
              "    </tr>\n",
              "    <tr>\n",
              "      <th>Date</th>\n",
              "      <th></th>\n",
              "    </tr>\n",
              "  </thead>\n",
              "  <tbody>\n",
              "    <tr>\n",
              "      <th>2013-06-13</th>\n",
              "      <td>7.30</td>\n",
              "    </tr>\n",
              "    <tr>\n",
              "      <th>2019-06-07</th>\n",
              "      <td>27.40</td>\n",
              "    </tr>\n",
              "    <tr>\n",
              "      <th>2015-08-31</th>\n",
              "      <td>14.40</td>\n",
              "    </tr>\n",
              "    <tr>\n",
              "      <th>2019-02-18</th>\n",
              "      <td>26.05</td>\n",
              "    </tr>\n",
              "    <tr>\n",
              "      <th>2015-09-15</th>\n",
              "      <td>15.15</td>\n",
              "    </tr>\n",
              "  </tbody>\n",
              "</table>\n",
              "</div>"
            ],
            "text/plain": [
              "            Close\n",
              "Date             \n",
              "2013-06-13   7.30\n",
              "2019-06-07  27.40\n",
              "2015-08-31  14.40\n",
              "2019-02-18  26.05\n",
              "2015-09-15  15.15"
            ]
          },
          "metadata": {
            "tags": []
          },
          "execution_count": 5
        }
      ]
    },
    {
      "cell_type": "code",
      "metadata": {
        "id": "FsLLeTIBLuW9",
        "colab_type": "code",
        "colab": {
          "base_uri": "https://localhost:8080/",
          "height": 34
        },
        "outputId": "c7aac4af-046f-4be0-d3b7-47a5627c2cce"
      },
      "source": [
        "# Split the data into 70% train, 30% test\n",
        "vCount = round( close_data.shape[0] * 0.7 )\n",
        "\n",
        "dataset = close_data.values\n",
        "\n",
        "train = dataset[0:vCount,:]\n",
        "test = dataset[vCount:,:]\n",
        "\n",
        "close_data.shape, train.shape, test.shape"
      ],
      "execution_count": 6,
      "outputs": [
        {
          "output_type": "execute_result",
          "data": {
            "text/plain": [
              "((1753, 1), (1227, 1), (526, 1))"
            ]
          },
          "metadata": {
            "tags": []
          },
          "execution_count": 6
        }
      ]
    },
    {
      "cell_type": "code",
      "metadata": {
        "id": "12KVJ3SFMHHr",
        "colab_type": "code",
        "colab": {}
      },
      "source": [
        "# Transform the training data\n",
        "scaler = MinMaxScaler(feature_range = (0, 1))\n",
        "training_data = scaler.fit_transform(train)"
      ],
      "execution_count": 0,
      "outputs": []
    },
    {
      "cell_type": "code",
      "metadata": {
        "id": "CInL11saMTXv",
        "colab_type": "code",
        "colab": {
          "base_uri": "https://localhost:8080/",
          "height": 1000
        },
        "outputId": "04b1c389-85a0-436f-e40c-ab1914d266d2"
      },
      "source": [
        "# Create features set, labels then create learning model\n",
        "features_set = []\n",
        "labels = []\n",
        "\n",
        "for i in range(60, train.shape[0]):\n",
        "    features_set.append(training_data[i-60:i, 0])\n",
        "    labels.append(training_data[i, 0])\n",
        "\n",
        "features_set, labels = np.array(features_set), np.array(labels)\n",
        "features_set = np.reshape(features_set, (features_set.shape[0], features_set.shape[1], 1))\n",
        "\n",
        "model = Sequential()\n",
        "model.add(LSTM(units=50, return_sequences=True, input_shape=(features_set.shape[1], 1)))\n",
        "model.add(Dropout(0.2))\n",
        "\n",
        "model.add(LSTM(units=50, return_sequences=True))\n",
        "model.add(Dropout(0.2))\n",
        "\n",
        "model.add(LSTM(units=50, return_sequences=True))\n",
        "model.add(Dropout(0.2))\n",
        "\n",
        "model.add(LSTM(units=50))\n",
        "model.add(Dropout(0.2))\n",
        "\n",
        "model.add(Dense(units = 1))\n",
        "\n",
        "model.compile(optimizer = 'adam', loss = 'mean_squared_error')\n",
        "\n",
        "model.fit(features_set, labels, epochs = 100, batch_size = 32)"
      ],
      "execution_count": 8,
      "outputs": [
        {
          "output_type": "stream",
          "text": [
            "Epoch 1/100\n",
            "1167/1167 [==============================] - 6s 5ms/step - loss: 0.0480\n",
            "Epoch 2/100\n",
            "1167/1167 [==============================] - 5s 4ms/step - loss: 0.0066\n",
            "Epoch 3/100\n",
            "1167/1167 [==============================] - 5s 4ms/step - loss: 0.0064\n",
            "Epoch 4/100\n",
            "1167/1167 [==============================] - 5s 4ms/step - loss: 0.0053\n",
            "Epoch 5/100\n",
            "1167/1167 [==============================] - 5s 4ms/step - loss: 0.0054\n",
            "Epoch 6/100\n",
            "1167/1167 [==============================] - 5s 4ms/step - loss: 0.0051\n",
            "Epoch 7/100\n",
            "1167/1167 [==============================] - 5s 4ms/step - loss: 0.0045\n",
            "Epoch 8/100\n",
            "1167/1167 [==============================] - 5s 5ms/step - loss: 0.0045\n",
            "Epoch 9/100\n",
            "1167/1167 [==============================] - 5s 4ms/step - loss: 0.0049\n",
            "Epoch 10/100\n",
            "1167/1167 [==============================] - 5s 4ms/step - loss: 0.0041\n",
            "Epoch 11/100\n",
            "1167/1167 [==============================] - 5s 4ms/step - loss: 0.0036\n",
            "Epoch 12/100\n",
            "1167/1167 [==============================] - 5s 4ms/step - loss: 0.0038\n",
            "Epoch 13/100\n",
            "1167/1167 [==============================] - 5s 5ms/step - loss: 0.0039\n",
            "Epoch 14/100\n",
            "1167/1167 [==============================] - 5s 4ms/step - loss: 0.0034\n",
            "Epoch 15/100\n",
            "1167/1167 [==============================] - 5s 4ms/step - loss: 0.0039\n",
            "Epoch 16/100\n",
            "1167/1167 [==============================] - 5s 4ms/step - loss: 0.0034\n",
            "Epoch 17/100\n",
            "1167/1167 [==============================] - 5s 4ms/step - loss: 0.0040\n",
            "Epoch 18/100\n",
            "1167/1167 [==============================] - 5s 4ms/step - loss: 0.0032\n",
            "Epoch 19/100\n",
            "1167/1167 [==============================] - 5s 5ms/step - loss: 0.0033\n",
            "Epoch 20/100\n",
            "1167/1167 [==============================] - 5s 4ms/step - loss: 0.0034\n",
            "Epoch 21/100\n",
            "1167/1167 [==============================] - 5s 4ms/step - loss: 0.0037\n",
            "Epoch 22/100\n",
            "1167/1167 [==============================] - 5s 4ms/step - loss: 0.0032\n",
            "Epoch 23/100\n",
            "1167/1167 [==============================] - 5s 5ms/step - loss: 0.0032\n",
            "Epoch 24/100\n",
            "1167/1167 [==============================] - 5s 4ms/step - loss: 0.0035\n",
            "Epoch 25/100\n",
            "1167/1167 [==============================] - 5s 4ms/step - loss: 0.0028\n",
            "Epoch 26/100\n",
            "1167/1167 [==============================] - 5s 4ms/step - loss: 0.0027\n",
            "Epoch 27/100\n",
            "1167/1167 [==============================] - 5s 4ms/step - loss: 0.0031\n",
            "Epoch 28/100\n",
            "1167/1167 [==============================] - 5s 4ms/step - loss: 0.0030\n",
            "Epoch 29/100\n",
            "1167/1167 [==============================] - 5s 5ms/step - loss: 0.0027\n",
            "Epoch 30/100\n",
            "1167/1167 [==============================] - 5s 4ms/step - loss: 0.0032\n",
            "Epoch 31/100\n",
            "1167/1167 [==============================] - 5s 4ms/step - loss: 0.0028\n",
            "Epoch 32/100\n",
            "1167/1167 [==============================] - 5s 4ms/step - loss: 0.0028\n",
            "Epoch 33/100\n",
            "1167/1167 [==============================] - 5s 4ms/step - loss: 0.0027\n",
            "Epoch 34/100\n",
            "1167/1167 [==============================] - 5s 4ms/step - loss: 0.0031\n",
            "Epoch 35/100\n",
            "1167/1167 [==============================] - 5s 5ms/step - loss: 0.0032\n",
            "Epoch 36/100\n",
            "1167/1167 [==============================] - 5s 5ms/step - loss: 0.0029\n",
            "Epoch 37/100\n",
            "1167/1167 [==============================] - 5s 4ms/step - loss: 0.0027\n",
            "Epoch 38/100\n",
            "1167/1167 [==============================] - 5s 4ms/step - loss: 0.0026\n",
            "Epoch 39/100\n",
            "1167/1167 [==============================] - 5s 4ms/step - loss: 0.0032\n",
            "Epoch 40/100\n",
            "1167/1167 [==============================] - 5s 4ms/step - loss: 0.0025\n",
            "Epoch 41/100\n",
            "1167/1167 [==============================] - 5s 4ms/step - loss: 0.0026\n",
            "Epoch 42/100\n",
            "1167/1167 [==============================] - 5s 5ms/step - loss: 0.0025\n",
            "Epoch 43/100\n",
            "1167/1167 [==============================] - 5s 4ms/step - loss: 0.0027\n",
            "Epoch 44/100\n",
            "1167/1167 [==============================] - 5s 4ms/step - loss: 0.0027\n",
            "Epoch 45/100\n",
            "1167/1167 [==============================] - 5s 4ms/step - loss: 0.0025\n",
            "Epoch 46/100\n",
            "1167/1167 [==============================] - 5s 4ms/step - loss: 0.0023\n",
            "Epoch 47/100\n",
            "1167/1167 [==============================] - 5s 4ms/step - loss: 0.0022\n",
            "Epoch 48/100\n",
            "1167/1167 [==============================] - 5s 5ms/step - loss: 0.0023\n",
            "Epoch 49/100\n",
            "1167/1167 [==============================] - 5s 4ms/step - loss: 0.0019\n",
            "Epoch 50/100\n",
            "1167/1167 [==============================] - 5s 4ms/step - loss: 0.0022\n",
            "Epoch 51/100\n",
            "1167/1167 [==============================] - 5s 5ms/step - loss: 0.0024\n",
            "Epoch 52/100\n",
            "1167/1167 [==============================] - 5s 5ms/step - loss: 0.0024\n",
            "Epoch 53/100\n",
            "1167/1167 [==============================] - 5s 4ms/step - loss: 0.0025\n",
            "Epoch 54/100\n",
            "1167/1167 [==============================] - 5s 4ms/step - loss: 0.0026\n",
            "Epoch 55/100\n",
            "1167/1167 [==============================] - 5s 5ms/step - loss: 0.0021\n",
            "Epoch 56/100\n",
            "1167/1167 [==============================] - 5s 5ms/step - loss: 0.0020\n",
            "Epoch 57/100\n",
            "1167/1167 [==============================] - 5s 4ms/step - loss: 0.0021\n",
            "Epoch 58/100\n",
            "1167/1167 [==============================] - 5s 4ms/step - loss: 0.0022\n",
            "Epoch 59/100\n",
            "1167/1167 [==============================] - 5s 4ms/step - loss: 0.0021\n",
            "Epoch 60/100\n",
            "1167/1167 [==============================] - 5s 5ms/step - loss: 0.0018\n",
            "Epoch 61/100\n",
            "1167/1167 [==============================] - 5s 4ms/step - loss: 0.0020\n",
            "Epoch 62/100\n",
            "1167/1167 [==============================] - 5s 4ms/step - loss: 0.0019\n",
            "Epoch 63/100\n",
            "1167/1167 [==============================] - 5s 4ms/step - loss: 0.0019\n",
            "Epoch 64/100\n",
            "1167/1167 [==============================] - 5s 4ms/step - loss: 0.0021\n",
            "Epoch 65/100\n",
            "1167/1167 [==============================] - 5s 4ms/step - loss: 0.0019\n",
            "Epoch 66/100\n",
            "1167/1167 [==============================] - 5s 5ms/step - loss: 0.0020\n",
            "Epoch 67/100\n",
            "1167/1167 [==============================] - 5s 4ms/step - loss: 0.0020\n",
            "Epoch 68/100\n",
            "1167/1167 [==============================] - 5s 4ms/step - loss: 0.0019\n",
            "Epoch 69/100\n",
            "1167/1167 [==============================] - 5s 4ms/step - loss: 0.0019\n",
            "Epoch 70/100\n",
            "1167/1167 [==============================] - 5s 4ms/step - loss: 0.0019\n",
            "Epoch 71/100\n",
            "1167/1167 [==============================] - 5s 4ms/step - loss: 0.0018\n",
            "Epoch 72/100\n",
            "1167/1167 [==============================] - 5s 4ms/step - loss: 0.0018\n",
            "Epoch 73/100\n",
            "1167/1167 [==============================] - 5s 4ms/step - loss: 0.0019\n",
            "Epoch 74/100\n",
            "1167/1167 [==============================] - 5s 4ms/step - loss: 0.0018\n",
            "Epoch 75/100\n",
            "1167/1167 [==============================] - 5s 4ms/step - loss: 0.0018\n",
            "Epoch 76/100\n",
            "1167/1167 [==============================] - 5s 4ms/step - loss: 0.0020\n",
            "Epoch 77/100\n",
            "1167/1167 [==============================] - 5s 4ms/step - loss: 0.0016\n",
            "Epoch 78/100\n",
            "1167/1167 [==============================] - 5s 4ms/step - loss: 0.0017\n",
            "Epoch 79/100\n",
            "1167/1167 [==============================] - 5s 5ms/step - loss: 0.0018\n",
            "Epoch 80/100\n",
            "1167/1167 [==============================] - 5s 4ms/step - loss: 0.0017\n",
            "Epoch 81/100\n",
            "1167/1167 [==============================] - 5s 4ms/step - loss: 0.0016\n",
            "Epoch 82/100\n",
            "1167/1167 [==============================] - 5s 4ms/step - loss: 0.0017\n",
            "Epoch 83/100\n",
            "1167/1167 [==============================] - 5s 4ms/step - loss: 0.0016\n",
            "Epoch 84/100\n",
            "1167/1167 [==============================] - 5s 4ms/step - loss: 0.0016\n",
            "Epoch 85/100\n",
            "1167/1167 [==============================] - 5s 4ms/step - loss: 0.0016\n",
            "Epoch 86/100\n",
            "1167/1167 [==============================] - 5s 5ms/step - loss: 0.0016\n",
            "Epoch 87/100\n",
            "1167/1167 [==============================] - 5s 4ms/step - loss: 0.0018\n",
            "Epoch 88/100\n",
            "1167/1167 [==============================] - 5s 4ms/step - loss: 0.0015\n",
            "Epoch 89/100\n",
            "1167/1167 [==============================] - 5s 4ms/step - loss: 0.0016\n",
            "Epoch 90/100\n",
            "1167/1167 [==============================] - 5s 5ms/step - loss: 0.0015\n",
            "Epoch 91/100\n",
            "1167/1167 [==============================] - 5s 4ms/step - loss: 0.0016\n",
            "Epoch 92/100\n",
            "1167/1167 [==============================] - 5s 4ms/step - loss: 0.0015\n",
            "Epoch 93/100\n",
            "1167/1167 [==============================] - 5s 5ms/step - loss: 0.0014\n",
            "Epoch 94/100\n",
            "1167/1167 [==============================] - 5s 5ms/step - loss: 0.0014\n",
            "Epoch 95/100\n",
            "1167/1167 [==============================] - 5s 4ms/step - loss: 0.0015\n",
            "Epoch 96/100\n",
            "1167/1167 [==============================] - 5s 4ms/step - loss: 0.0014\n",
            "Epoch 97/100\n",
            "1167/1167 [==============================] - 5s 4ms/step - loss: 0.0014\n",
            "Epoch 98/100\n",
            "1167/1167 [==============================] - 5s 5ms/step - loss: 0.0016\n",
            "Epoch 99/100\n",
            "1167/1167 [==============================] - 5s 4ms/step - loss: 0.0015\n",
            "Epoch 100/100\n",
            "1167/1167 [==============================] - 5s 5ms/step - loss: 0.0014\n"
          ],
          "name": "stdout"
        },
        {
          "output_type": "execute_result",
          "data": {
            "text/plain": [
              "<keras.callbacks.callbacks.History at 0x7f5cd5336da0>"
            ]
          },
          "metadata": {
            "tags": []
          },
          "execution_count": 8
        }
      ]
    },
    {
      "cell_type": "code",
      "metadata": {
        "id": "C9wjAzOLMmgP",
        "colab_type": "code",
        "colab": {}
      },
      "source": [
        "# Create features set, labels for testing\n",
        "test_inputs = close_data[len(close_data) - len(test) - 60:].values\n",
        "test_inputs = test_inputs.reshape(-1,1)\n",
        "test_inputs = scaler.transform(test_inputs)\n",
        "\n",
        "test_features = []\n",
        "for i in range(60, test_inputs.shape[0]):\n",
        "    test_features.append(test_inputs[i-60:i, 0])\n",
        "    \n",
        "test_features = np.array(test_features)\n",
        "test_features = np.reshape(test_features, (test_features.shape[0], test_features.shape[1], 1))\n",
        "\n",
        "predictions = model.predict(test_features)\n",
        "predictions = scaler.inverse_transform(predictions)"
      ],
      "execution_count": 0,
      "outputs": []
    },
    {
      "cell_type": "code",
      "metadata": {
        "id": "WZDtF06zO_1Y",
        "colab_type": "code",
        "colab": {
          "base_uri": "https://localhost:8080/",
          "height": 476
        },
        "outputId": "c0ac1872-babe-49d0-d51c-abdb7acf0da5"
      },
      "source": [
        "# Plotting the actual vs the predicted prices\n",
        "train = close_data[:vCount]\n",
        "test = close_data[vCount:]\n",
        "\n",
        "test['Predictions'] = predictions\n",
        "plt.plot(train['Close'], label='Closing Price Trend', lw=2)\n",
        "\n",
        "plt.plot(test['Close'], label='Actual Closing Price', lw=1)\n",
        "plt.plot(test['Predictions'], dashes=[1, 2], label='Predicted Price', lw=2)\n",
        "\n",
        "plt.title('[ ' + vTicker + ' ] - ACTUAL Vs. PREDICTED CLOSING PRICE').set_color('green')\n",
        "plt.ylabel('Share Price (KES.)')\n",
        "plt.xlabel('Trading Date')\n",
        "\n",
        "plt.legend()\n",
        "plt.show()\n",
        "plt.savefig(\"scom_actual_vs_predicted_close_price.png\")"
      ],
      "execution_count": 10,
      "outputs": [
        {
          "output_type": "stream",
          "text": [
            "/usr/local/lib/python3.6/dist-packages/ipykernel_launcher.py:4: SettingWithCopyWarning: \n",
            "A value is trying to be set on a copy of a slice from a DataFrame.\n",
            "Try using .loc[row_indexer,col_indexer] = value instead\n",
            "\n",
            "See the caveats in the documentation: https://pandas.pydata.org/pandas-docs/stable/user_guide/indexing.html#returning-a-view-versus-a-copy\n",
            "  after removing the cwd from sys.path.\n"
          ],
          "name": "stderr"
        },
        {
          "output_type": "display_data",
          "data": {
            "image/png": "[encoded data removed]",
            "text/plain": [
              "<Figure size 1152x360 with 1 Axes>"
            ]
          },
          "metadata": {
            "tags": [],
            "needs_background": "light"
          }
        },
        {
          "output_type": "display_data",
          "data": {
            "text/plain": [
              "<Figure size 1152x360 with 0 Axes>"
            ]
          },
          "metadata": {
            "tags": []
          }
        }
      ]
    },
    {
      "cell_type": "code",
      "metadata": {
        "id": "KWwsW-MfPfU0",
        "colab_type": "code",
        "colab": {}
      },
      "source": [
        ""
      ],
      "execution_count": 0,
      "outputs": []
    }
  ]
}